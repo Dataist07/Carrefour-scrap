{
 "cells": [
  {
   "cell_type": "code",
   "execution_count": 22,
   "metadata": {},
   "outputs": [],
   "source": [
    "import undetected_chromedriver as uc\n",
    "import pickle\n",
    "import pandas as pd\n",
    "\n",
    "from selenium import webdriver\n",
    "from selenium.webdriver.support.wait import WebDriverWait\n",
    "from selenium.webdriver.support import expected_conditions as EC\n",
    "\n",
    "from selenium.webdriver.common.keys import Keys\n",
    "from selenium.webdriver.common.by import By\n",
    "from selenium.webdriver.chrome.options import Options\n",
    "from selenium.webdriver.chrome.service import Service\n",
    "import time"
   ]
  },
  {
   "cell_type": "code",
   "execution_count": 23,
   "metadata": {},
   "outputs": [],
   "source": [
    "def choisir_drive():\n",
    "    options = Options()\n",
    "    options.add_experimental_option('detach', True)\n",
    "\n",
    "    path =\"C:\\Program Files (x86)\\chromedriver.exe\"\n",
    "    driver = uc.Chrome() \n",
    "    driver.get(\"https://www.carrefour.fr/\")\n",
    "    driver.maximize_window()\n",
    "    time.sleep(2)\n",
    "    try:\n",
    "        button = WebDriverWait(driver, 10).until(\n",
    "            EC.presence_of_element_located((By.ID, 'onetrust-reject-all-handler'))\n",
    "        )\n",
    "        button.click()\n",
    "\n",
    "        time.sleep(3)\n",
    "\n",
    "        button_commencer = WebDriverWait(driver, 10).until(\n",
    "            EC.presence_of_element_located((By.XPATH, '//*[@id=\"data-food-content\"]/div/div/ul/li[1]/div'))\n",
    "        )\n",
    "        button_commencer.click()\n",
    "        time.sleep(3)\n",
    "\n",
    "        search_location = WebDriverWait(driver, 10).until(\n",
    "            EC.presence_of_element_located((By.XPATH, '//*[@id=\"pl-input-82083817-5ac4-4b16-a0c0-50883586527b\"]'))\n",
    "        )\n",
    "        search_location.send_keys('Tourcoing', Keys.RETURN)      \n",
    "\n",
    "        time.sleep(4)\n",
    "\n",
    "        print('a')\n",
    "\n",
    "    except:\n",
    "        driver.quit()\n"
   ]
  },
  {
   "cell_type": "code",
   "execution_count": 24,
   "metadata": {},
   "outputs": [],
   "source": [
    "if __name__ == '__main__':\n",
    "\n",
    "    choisir_drive()\n",
    "    \n",
    "\n",
    "    "
   ]
  }
 ],
 "metadata": {
  "kernelspec": {
   "display_name": "fvenv",
   "language": "python",
   "name": "python3"
  },
  "language_info": {
   "codemirror_mode": {
    "name": "ipython",
    "version": 3
   },
   "file_extension": ".py",
   "mimetype": "text/x-python",
   "name": "python",
   "nbconvert_exporter": "python",
   "pygments_lexer": "ipython3",
   "version": "3.9.12"
  },
  "orig_nbformat": 4
 },
 "nbformat": 4,
 "nbformat_minor": 2
}
